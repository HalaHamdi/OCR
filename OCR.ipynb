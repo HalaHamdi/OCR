{
 "cells": [
  {
   "cell_type": "code",
   "execution_count": 1,
   "metadata": {},
   "outputs": [],
   "source": [
    "import cv2 \n",
    "import docx\n",
    "import pytesseract\n",
    "pytesseract.pytesseract.tesseract_cmd=  'C:\\Program Files\\Tesseract-OCR/tesseract.exe'"
   ]
  },
  {
   "cell_type": "code",
   "execution_count": 2,
   "metadata": {},
   "outputs": [
    {
     "data": {
      "text/plain": [
       "-1"
      ]
     },
     "execution_count": 2,
     "metadata": {},
     "output_type": "execute_result"
    }
   ],
   "source": [
    "img =cv2.imread(\"./TestCases/img1.png\")\n",
    "img= cv2.cvtColor(img,cv2.COLOR_BGR2RGB)\n",
    "cv2.imshow(\"Result\",img)\n",
    "cv2.waitKey(0)"
   ]
  },
  {
   "cell_type": "code",
   "execution_count": 3,
   "metadata": {},
   "outputs": [],
   "source": [
    "# Addig red boxes around each Alpha numeric character \n",
    "def box_chars(image):\n",
    "    img= image.copy()\n",
    "    height ,width ,ww= img.shape\n",
    "    boxes=pytesseract.image_to_boxes(img)\n",
    "    for b in boxes.splitlines():\n",
    "        b=b.split(\" \")\n",
    "        # Char , X,Y ,width ,height\n",
    "        x,y,w,h=int(b[1]) , int(b[2]),int(b[3])  , int(b[4])\n",
    "        # 1 for thickness\n",
    "        cv2.rectangle(img,(x,height-y),(w,height-h),(0,0,255),1)\n",
    "        cv2.putText(img,b[0],(x,height-y+10),cv2.FONT_HERSHEY_COMPLEX,1,(50,50,255),2)\n",
    "        \n",
    "    cv2.imshow(\"Result\",img)\n",
    "    cv2.waitKey(0)\n",
    "\n",
    "box_chars(img)"
   ]
  },
  {
   "cell_type": "code",
   "execution_count": null,
   "metadata": {},
   "outputs": [],
   "source": [
    "# Addig red boxes around each Alpha numeric Word\n",
    "def box_words(image):\n",
    "    img=image.copy()\n",
    "    height ,width ,ww= img.shape\n",
    "    boxes=pytesseract.image_to_data(img)\n",
    "    mydoc = docx.Document()\n",
    "    text=\"\"\n",
    "    for count,b in enumerate(boxes.splitlines()):\n",
    "        if count!=0:\n",
    "            b=b.split()\n",
    "            if len(b)==12:\n",
    "                x,y,w,h=int(b[6]) , int(b[7]),int(b[8])  , int(b[9])\n",
    "                cv2.rectangle(img,(x,y),(w+x,h+y),(0,0,255),2)\n",
    "                cv2.putText(img,b[11],(x,y),cv2.FONT_HERSHEY_SIMPLEX,1,(50,50,255),2)\n",
    "                text+=b[11]+\" \"\n",
    "    mydoc.add_paragraph(text)\n",
    "    mydoc.save(\"result.docx\")\n",
    "    cv2.imshow(\"Result\",img)\n",
    "    cv2.waitKey(0)\n",
    "\n",
    "box_words(img)"
   ]
  }
 ],
 "metadata": {
  "interpreter": {
   "hash": "ec0d9d781e091520252f04754874b59a56f04b0b59dd8529c834cab0b761874f"
  },
  "kernelspec": {
   "display_name": "Python 3.9.0 64-bit",
   "language": "python",
   "name": "python3"
  },
  "language_info": {
   "codemirror_mode": {
    "name": "ipython",
    "version": 3
   },
   "file_extension": ".py",
   "mimetype": "text/x-python",
   "name": "python",
   "nbconvert_exporter": "python",
   "pygments_lexer": "ipython3",
   "version": "3.9.0"
  },
  "orig_nbformat": 4
 },
 "nbformat": 4,
 "nbformat_minor": 2
}
